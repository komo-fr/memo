{
 "cells": [
  {
   "cell_type": "markdown",
   "metadata": {},
   "source": [
    "# これは何？\n",
    "networkx 2.1(2018/5/27現在の最新安定版)のfrom_pandas_adjacency関数の仕様確認をした際のメモ書きです。\n",
    "- from_pandas_adjacency()\n",
    "    + https://networkx.github.io/documentation/networkx-2.1/reference/generated/networkx.convert_matrix.from_pandas_adjacency.html#networkx.convert_matrix.from_pandas_adjacency\n",
    "    + networkx 2.0から追加された関数。\n",
    "    + pandasのDataFrame構造で作った隣接行列をnetworkxのグラフ構造に変換する。とても便利。\n",
    "    \n",
    "# なぜ調べたの？\n",
    "- 最近作っているPEPの参照関係の可視化(リポジトリ: https://github.com/komo-fr/pep_map_site ）を作っている際に、**「隣接行列（pandasのDataFrame形式）の中身は正しいのにfrom_pandas_adjacency関数で生成したグラフ構造が意図しない形になる」現象**に遭遇しました\n",
    "    + 具体的には、被参照数No1のPEP 8に対する入次数が2しかない、みたいな現象。   \n",
    "- **「pandasの行名と列名の並び順を揃える」ことで解決した** (https://bit.ly/2IN5m0R ) ので、おそらくpandasのラベル名を見ずに行と列の順序の対応でエッジを張っているのだと思うのですが、なんか気持ち悪いので小さいデータで確認してみることにしました。"
   ]
  },
  {
   "cell_type": "markdown",
   "metadata": {},
   "source": [
    "# 使い方に関する結論\n",
    "先に結論を書くと、   \n",
    "- networkx 2.1(2018/5/27現在の最新安定版）でfrom_pandas_adjacencyを使用する際は、pandasのデータフレームの行名・列名は並び順を揃えて渡すこと！\n",
    "- でないと、意図しない構造に変換される恐れがある。   \n",
    "   \n",
    "詳細は下記の通り。"
   ]
  },
  {
   "cell_type": "markdown",
   "metadata": {},
   "source": [
    "# ライブラリのバージョン"
   ]
  },
  {
   "cell_type": "code",
   "execution_count": 1,
   "metadata": {
    "ExecuteTime": {
     "end_time": "2018-05-27T10:06:20.421402Z",
     "start_time": "2018-05-27T10:06:19.265449Z"
    }
   },
   "outputs": [],
   "source": [
    "import pandas as pd\n",
    "import networkx as nx\n",
    "import matplotlib.pyplot as plt\n",
    "\n",
    "from IPython.display import display"
   ]
  },
  {
   "cell_type": "code",
   "execution_count": 2,
   "metadata": {
    "ExecuteTime": {
     "end_time": "2018-05-27T10:06:20.591419Z",
     "start_time": "2018-05-27T10:06:20.583722Z"
    }
   },
   "outputs": [
    {
     "name": "stdout",
     "output_type": "stream",
     "text": [
      "pandas: 0.21.0\n",
      "networkx: 2.1\n"
     ]
    }
   ],
   "source": [
    "print('pandas: {}'.format(pd.__version__))\n",
    "print('networkx: {}'.format(nx.__version__))"
   ]
  },
  {
   "cell_type": "markdown",
   "metadata": {},
   "source": [
    "補足：   \n",
    "- networkx 1.9以前では、そもそもfrom_pandas_adjacency関数自体が存在しないので、下記のコードは実行できません。\n",
    "- networkx 2.0では、関数自体は存在するものの、下記不具合により無向グラフ以外への変換ができないので、下記のコードの実行結果が変わると思います。\n",
    "    + issue: https://github.com/networkx/networkx/issues/2828 （2.1では修正済）\n",
    "    + 2.0環境で以下のコードを実行すると、有向グラフではなく無向グラフが表示されてしまうはず。今回の現象自体は無向グラフ・有向グラフは関係ないので、今回の本題の確認自体はできると思います。ただし、私は2.0環境では確認していないので、気になる人は自分でやってみてね。"
   ]
  },
  {
   "cell_type": "markdown",
   "metadata": {},
   "source": [
    "# 詳細（確認の手順）"
   ]
  },
  {
   "cell_type": "markdown",
   "metadata": {
    "ExecuteTime": {
     "end_time": "2018-05-27T06:26:30.561733Z",
     "start_time": "2018-05-27T06:26:30.557301Z"
    }
   },
   "source": [
    "## 確認1: 行名・列名が同じで、行順・列順も同じ場合\n",
    "うまくいくケース"
   ]
  },
  {
   "cell_type": "code",
   "execution_count": 3,
   "metadata": {
    "ExecuteTime": {
     "end_time": "2018-05-27T10:06:21.507064Z",
     "start_time": "2018-05-27T10:06:20.709217Z"
    }
   },
   "outputs": [
    {
     "data": {
      "text/html": [
       "<div>\n",
       "<style scoped>\n",
       "    .dataframe tbody tr th:only-of-type {\n",
       "        vertical-align: middle;\n",
       "    }\n",
       "\n",
       "    .dataframe tbody tr th {\n",
       "        vertical-align: top;\n",
       "    }\n",
       "\n",
       "    .dataframe thead th {\n",
       "        text-align: right;\n",
       "    }\n",
       "</style>\n",
       "<table border=\"1\" class=\"dataframe\">\n",
       "  <thead>\n",
       "    <tr style=\"text-align: right;\">\n",
       "      <th></th>\n",
       "      <th>A</th>\n",
       "      <th>B</th>\n",
       "      <th>C</th>\n",
       "    </tr>\n",
       "  </thead>\n",
       "  <tbody>\n",
       "    <tr>\n",
       "      <th>A</th>\n",
       "      <td>0</td>\n",
       "      <td>1</td>\n",
       "      <td>0</td>\n",
       "    </tr>\n",
       "    <tr>\n",
       "      <th>B</th>\n",
       "      <td>0</td>\n",
       "      <td>0</td>\n",
       "      <td>1</td>\n",
       "    </tr>\n",
       "    <tr>\n",
       "      <th>C</th>\n",
       "      <td>0</td>\n",
       "      <td>0</td>\n",
       "      <td>0</td>\n",
       "    </tr>\n",
       "  </tbody>\n",
       "</table>\n",
       "</div>"
      ],
      "text/plain": [
       "   A  B  C\n",
       "A  0  1  0\n",
       "B  0  0  1\n",
       "C  0  0  0"
      ]
     },
     "metadata": {},
     "output_type": "display_data"
    },
    {
     "data": {
      "image/png": "[encoded data removed]",
      "text/plain": [
       "<matplotlib.figure.Figure at 0x10dc53c88>"
      ]
     },
     "metadata": {},
     "output_type": "display_data"
    }
   ],
   "source": [
    "# A->B, B->C, Cは誰も見ていない\n",
    "data = {\"A\": {\"A\": 0, \"B\" : 0, \"C\": 0},\n",
    "            \"B\": {\"A\": 1, \"B\" : 0, \"C\": 0},\n",
    "            \"C\": {\"A\": 0, \"B\" : 1, \"C\": 0}\n",
    "           }\n",
    "a_df = pd.DataFrame(data)\n",
    "display(a_df)\n",
    "\n",
    "# 変換\n",
    "G  = nx.from_pandas_adjacency(a_df, create_using=nx.DiGraph())\n",
    "# 表示\n",
    "pos=nx.spring_layout(G)\n",
    "nx.draw_networkx_nodes(G, pos=pos)\n",
    "nx.draw_networkx_labels(G, pos=pos)\n",
    "nx.draw_networkx_edges(G, pos=pos)\n",
    "plt.show()"
   ]
  },
  {
   "cell_type": "markdown",
   "metadata": {},
   "source": [
    "### 結果 \n",
    "意図通りの構造で変換される。"
   ]
  },
  {
   "cell_type": "markdown",
   "metadata": {
    "ExecuteTime": {
     "end_time": "2018-05-27T06:27:25.034916Z",
     "start_time": "2018-05-27T06:27:25.025327Z"
    }
   },
   "source": [
    "## 確認2: 行名・列名が同じで、行順・列順が異なる場合\n",
    "行名と列名が同じだが、行と列で並び順が異なったらどうなるか？   \n",
    "例えば列の順をA, B, CからA, C, Bにした場合、\n",
    "- 予想1: 確認1と同じ結果になり、列名を基準とした構造になる\n",
    "    + A→B, B→C, Cは誰も見ていない\n",
    "- 予想2: 確認1と違う結果になる"
   ]
  },
  {
   "cell_type": "code",
   "execution_count": 4,
   "metadata": {
    "ExecuteTime": {
     "end_time": "2018-05-27T10:06:22.223600Z",
     "start_time": "2018-05-27T10:06:21.759190Z"
    }
   },
   "outputs": [
    {
     "data": {
      "text/html": [
       "<div>\n",
       "<style scoped>\n",
       "    .dataframe tbody tr th:only-of-type {\n",
       "        vertical-align: middle;\n",
       "    }\n",
       "\n",
       "    .dataframe tbody tr th {\n",
       "        vertical-align: top;\n",
       "    }\n",
       "\n",
       "    .dataframe thead th {\n",
       "        text-align: right;\n",
       "    }\n",
       "</style>\n",
       "<table border=\"1\" class=\"dataframe\">\n",
       "  <thead>\n",
       "    <tr style=\"text-align: right;\">\n",
       "      <th></th>\n",
       "      <th>A</th>\n",
       "      <th>C</th>\n",
       "      <th>B</th>\n",
       "    </tr>\n",
       "  </thead>\n",
       "  <tbody>\n",
       "    <tr>\n",
       "      <th>A</th>\n",
       "      <td>0</td>\n",
       "      <td>0</td>\n",
       "      <td>1</td>\n",
       "    </tr>\n",
       "    <tr>\n",
       "      <th>B</th>\n",
       "      <td>0</td>\n",
       "      <td>1</td>\n",
       "      <td>0</td>\n",
       "    </tr>\n",
       "    <tr>\n",
       "      <th>C</th>\n",
       "      <td>0</td>\n",
       "      <td>0</td>\n",
       "      <td>0</td>\n",
       "    </tr>\n",
       "  </tbody>\n",
       "</table>\n",
       "</div>"
      ],
      "text/plain": [
       "   A  C  B\n",
       "A  0  0  1\n",
       "B  0  1  0\n",
       "C  0  0  0"
      ]
     },
     "metadata": {},
     "output_type": "display_data"
    },
    {
     "data": {
      "image/png": "[encoded data removed]",
      "text/plain": [
       "<matplotlib.figure.Figure at 0x10fcb3828>"
      ]
     },
     "metadata": {},
     "output_type": "display_data"
    }
   ],
   "source": [
    "# A->B, B->C, Cは誰も見ていない（確認1と組み合わせは同じ）\n",
    "data = {\"A\": {\"A\": 0, \"B\" : 0, \"C\": 0},\n",
    "            \"B\": {\"A\": 1, \"B\" : 0, \"C\": 0}, \n",
    "            \"C\": {\"A\": 0, \"B\" : 1, \"C\": 0}\n",
    "           }\n",
    "df = pd.DataFrame(data)\n",
    "df = df[[\"A\", \"C\", \"B\"]]  # ★列の並びを行とは違う順にする\n",
    "display(df)\n",
    "\n",
    "# 変換\n",
    "G  = nx.from_pandas_adjacency(df, create_using=nx.DiGraph())\n",
    "# 表示\n",
    "pos=nx.spring_layout(G)\n",
    "nx.draw_networkx_nodes(G, pos=pos)\n",
    "nx.draw_networkx_labels(G, pos=pos)\n",
    "nx.draw_networkx_edges(G, pos=pos)\n",
    "plt.show()"
   ]
  },
  {
   "cell_type": "markdown",
   "metadata": {},
   "source": [
    "## 結果    \n",
    "予想2: 確認1と違う結果になる。   \n",
    "ただし、何故こういう違い方になるのかがわからない。枝は2本あったはずなのに、何故1本になってるの？"
   ]
  },
  {
   "cell_type": "markdown",
   "metadata": {},
   "source": [
    "# なぜこうなる？\n",
    "## from_pandas_adjacencyの中身を見てみる\n",
    "- source(2.1): https://networkx.github.io/documentation/networkx-2.1/_modules/networkx/convert_matrix.html#from_pandas_adjacency"
   ]
  },
  {
   "cell_type": "code",
   "execution_count": 5,
   "metadata": {
    "ExecuteTime": {
     "end_time": "2018-05-27T10:06:22.632377Z",
     "start_time": "2018-05-27T10:06:22.621389Z"
    }
   },
   "outputs": [],
   "source": [
    "def from_pandas_adjacency(df, create_using=None):\n",
    "    \"\"\"\n",
    "    networkx 2.1のfrom_pandas_adjacencyの中身。\n",
    "    元のコード： https://networkx.github.io/documentation/networkx-2.1/_modules/networkx/convert_matrix.html#from_pandas_adjacency\n",
    "    関数コメントは長いので省略。★マーク付のコメントは私（komo-fr)のコメント\n",
    "    \"\"\"\n",
    "    # ★列順と行順を揃える前に、numpy配列の形でグラフ構造に変換している＝行名・列名は考慮されず順序で対応が決まる\n",
    "    A = df.values\n",
    "    G = from_numpy_matrix(A, create_using=create_using)\n",
    "    try:\n",
    "        df = df[df.index]  # ★ここで行順と列順を揃えている\n",
    "    except:\n",
    "        raise nx.NetworkXError(\"Columns must match Indices.\", \"%s not in columns\" %\n",
    "                               list(set(df.index).difference(set(df.columns))))\n",
    "\n",
    "    nx.relabel.relabel_nodes(G, dict(enumerate(df.columns)), copy=False)  # ★sort後の列順を使って、sort前のnumpy配列で作ったノードにマッピングしている\n",
    "    return G"
   ]
  },
  {
   "cell_type": "markdown",
   "metadata": {},
   "source": [
    "行順と列順を揃える前のデータからグラフ構造を作り、行順と列順を揃えた後にノードのラベルの張り替えをしているので、意図しない構造になっているようだ。試しに、下記の通りグラフ構造生成前に行順と列順を揃えて実行してみる。"
   ]
  },
  {
   "cell_type": "markdown",
   "metadata": {},
   "source": [
    "## 修正案"
   ]
  },
  {
   "cell_type": "code",
   "execution_count": 6,
   "metadata": {
    "ExecuteTime": {
     "end_time": "2018-05-27T10:06:22.922992Z",
     "start_time": "2018-05-27T10:06:22.914941Z"
    }
   },
   "outputs": [],
   "source": [
    "def from_pandas_adjacency_after(df, create_using=None):\n",
    "    \"\"\" \n",
    "    修正案\n",
    "    \"\"\"\n",
    "    try:  # ★先に行順と列順を揃える\n",
    "        df = df[df.index]\n",
    "    except:\n",
    "        raise nx.NetworkXError(\"Columns must match Indices.\", \"%s not in columns\" %\n",
    "                               list(set(df.index).difference(set(df.columns))))\n",
    "    \n",
    "    A = df.values\n",
    "    G = nx.from_numpy_matrix(A, create_using=create_using)  # ★Jupyter上で動かすためにnxをつけている。実際のコードの修正ではここの変更は不要\n",
    "\n",
    "    nx.relabel.relabel_nodes(G, dict(enumerate(df.columns)), copy=False)\n",
    "    return G"
   ]
  },
  {
   "cell_type": "code",
   "execution_count": 7,
   "metadata": {
    "ExecuteTime": {
     "end_time": "2018-05-27T10:06:23.218210Z",
     "start_time": "2018-05-27T10:06:22.928028Z"
    }
   },
   "outputs": [
    {
     "data": {
      "text/html": [
       "<div>\n",
       "<style scoped>\n",
       "    .dataframe tbody tr th:only-of-type {\n",
       "        vertical-align: middle;\n",
       "    }\n",
       "\n",
       "    .dataframe tbody tr th {\n",
       "        vertical-align: top;\n",
       "    }\n",
       "\n",
       "    .dataframe thead th {\n",
       "        text-align: right;\n",
       "    }\n",
       "</style>\n",
       "<table border=\"1\" class=\"dataframe\">\n",
       "  <thead>\n",
       "    <tr style=\"text-align: right;\">\n",
       "      <th></th>\n",
       "      <th>A</th>\n",
       "      <th>C</th>\n",
       "      <th>B</th>\n",
       "    </tr>\n",
       "  </thead>\n",
       "  <tbody>\n",
       "    <tr>\n",
       "      <th>A</th>\n",
       "      <td>0</td>\n",
       "      <td>0</td>\n",
       "      <td>1</td>\n",
       "    </tr>\n",
       "    <tr>\n",
       "      <th>B</th>\n",
       "      <td>0</td>\n",
       "      <td>1</td>\n",
       "      <td>0</td>\n",
       "    </tr>\n",
       "    <tr>\n",
       "      <th>C</th>\n",
       "      <td>0</td>\n",
       "      <td>0</td>\n",
       "      <td>0</td>\n",
       "    </tr>\n",
       "  </tbody>\n",
       "</table>\n",
       "</div>"
      ],
      "text/plain": [
       "   A  C  B\n",
       "A  0  0  1\n",
       "B  0  1  0\n",
       "C  0  0  0"
      ]
     },
     "metadata": {},
     "output_type": "display_data"
    },
    {
     "data": {
      "image/png": "[encoded data removed]",
      "text/plain": [
       "<matplotlib.figure.Figure at 0x1125eee48>"
      ]
     },
     "metadata": {},
     "output_type": "display_data"
    }
   ],
   "source": [
    "# 簡単な修正確認\n",
    "data = {\"A\": {\"A\": 0, \"B\" : 0, \"C\": 0},\n",
    "            \"B\": {\"A\": 1, \"B\" : 0, \"C\": 0}, \n",
    "            \"C\": {\"A\": 0, \"B\" : 1, \"C\": 0}\n",
    "           }\n",
    "df = pd.DataFrame(data)\n",
    "df = df[[\"A\", \"C\", \"B\"]]  # ★列の並びを行とは違う順にする\n",
    "display(df)\n",
    "\n",
    "# 変換\n",
    "G  = from_pandas_adjacency_after(df, create_using=nx.DiGraph())  # ★修正した関数を使ってみる\n",
    "# 表示\n",
    "pos=nx.spring_layout(G)\n",
    "nx.draw_networkx_nodes(G, pos=pos)\n",
    "nx.draw_networkx_labels(G, pos=pos)\n",
    "nx.draw_networkx_edges(G, pos=pos)\n",
    "plt.show()"
   ]
  },
  {
   "cell_type": "markdown",
   "metadata": {},
   "source": [
    "意図通り（行名・列名に基づいて）グラフ構造を生成・描画できた。"
   ]
  },
  {
   "cell_type": "markdown",
   "metadata": {},
   "source": [
    "## なぜ2本あった枝が1本になったのか\n",
    "確認2で用意したデータの場合、下記の通りセルフループになるため描画時に表示されなかったようだ。"
   ]
  },
  {
   "cell_type": "code",
   "execution_count": 8,
   "metadata": {
    "ExecuteTime": {
     "end_time": "2018-05-27T10:06:24.089004Z",
     "start_time": "2018-05-27T10:06:23.801659Z"
    },
    "cell_style": "center"
   },
   "outputs": [
    {
     "name": "stdout",
     "output_type": "stream",
     "text": [
      "列名・行名に惑わされず順序だけで見ると、2行目と2列目が接続＝セルフループになっている\n",
      "[[0 0 1]\n",
      " [0 1 0]\n",
      " [0 0 0]]\n",
      "ラベルを張り替える前のエッジ: [(0, 2), (1, 1)]\n",
      "ラベル張り替えの対応: {0: 'A', 1: 'B', 2: 'C'}\n",
      "ラベルを張り替えた後のエッジ: [('A', 'C'), ('B', 'B')]\n"
     ]
    },
    {
     "data": {
      "image/png": "[encoded data removed]",
      "text/plain": [
       "<matplotlib.figure.Figure at 0x1126dc2b0>"
      ]
     },
     "metadata": {},
     "output_type": "display_data"
    }
   ],
   "source": [
    "# 確認2と同じデータを用意する\n",
    "data = {\"A\": {\"A\": 0, \"B\" : 0, \"C\": 0},\n",
    "            \"B\": {\"A\": 1, \"B\" : 0, \"C\": 0}, \n",
    "            \"C\": {\"A\": 0, \"B\" : 1, \"C\": 0}\n",
    "           }\n",
    "df= pd.DataFrame(data)\n",
    "df = df[[\"A\", \"C\", \"B\"]]  # ★列の並びを行とは違う順にする\n",
    "\n",
    "print('列名・行名に惑わされず順序だけで見ると、2行目と2列目が接続＝セルフループになっている')\n",
    "print(df.values) \n",
    "\n",
    "create_using = nx.DiGraph()\n",
    "A = df.values\n",
    "\n",
    "G = nx.from_numpy_matrix(A, create_using=create_using)\n",
    "\n",
    "df = df[df.index]  # 行順と列順を揃える\n",
    "print('ラベルを張り替える前のエッジ: {}'.format(G.edges()))\n",
    "\n",
    "nx.relabel.relabel_nodes(G, dict(enumerate(df.columns)), copy=False)\n",
    "print('ラベル張り替えの対応: {}'.format(dict(enumerate(df.columns))))\n",
    "print('ラベルを張り替えた後のエッジ: {}'.format(G.edges()))\n",
    "pos=nx.spring_layout(G)\n",
    "nx.draw_networkx_nodes(G, pos=pos)\n",
    "nx.draw_networkx_labels(G, pos=pos)\n",
    "nx.draw_networkx_edges(G, pos=pos)\n",
    "plt.show()"
   ]
  },
  {
   "cell_type": "markdown",
   "metadata": {},
   "source": [
    "## これ不具合なの？？\n",
    "- 仕様なのか不具合なのかはドキュメント(https://bit.ly/2xg1cJA )からはわからない。\n",
    "- ただ個人的には、pandasのDataFrameで0始まりの連番ではなく敢えて行名・列名をつけているときは、それをノード名として解釈するのが自然だし、不具合の元にもならないと思う（現状の動きだと、関数を呼ぶ側がいちいち行順と列順を意識する必要があり、意図しないグラフ構造に変換される恐れがある）。\n",
    "- GitHub上のmasterブランチの当該関数を確認したところ、現時点（2018/5/27）時点では特に変更はない。\n",
    "    - https://github.com/networkx/networkx/blob/master/networkx/convert_matrix.py \n",
    "- まだちゃんと確認しきれていないけど、issueとmasterにマージされていないpull requestをざっと眺めたところ、特に誰も言及していないっぽい？\n",
    "    + 確認したらissue立てて聞いてみて、 できたらpull request投げることを検討する。"
   ]
  },
  {
   "cell_type": "markdown",
   "metadata": {},
   "source": [
    "# 結論（再）\n",
    "- networkx 2.1(2018/5/27現在の最新安定版）でfrom_pandas_adjacencyを使用する際は、pandasのデータフレームの行名・列名は並び順を揃えて渡すこと！\n",
    "- でないと、意図しない構造に変換される恐れがある。  "
   ]
  },
  {
   "cell_type": "markdown",
   "metadata": {
    "ExecuteTime": {
     "end_time": "2018-05-27T06:55:23.253966Z",
     "start_time": "2018-05-27T06:55:23.248866Z"
    }
   },
   "source": [
    "# 番外編"
   ]
  },
  {
   "cell_type": "markdown",
   "metadata": {},
   "source": [
    "## 番外1: 行名・列名が異なる場合\n",
    "行の名前と列の名前が異なっていたらどうなる？   \n",
    "例えば列名をA, B, <font color=\"red\">ccc</font>に変更した場合、\n",
    "- 予想1: エラーになってそもそも変換できない\n",
    "- 予想2: エラーにならず変換され、ノードが4つ表示される（A, B, C, ccc)\n",
    "- 予想3: エラーになって変換されるが、ノードは3つのままで、確認2のようによくわからない枝の張り方がされる\n",
    "- 予想4: それ以外"
   ]
  },
  {
   "cell_type": "code",
   "execution_count": 9,
   "metadata": {
    "ExecuteTime": {
     "end_time": "2018-05-27T10:06:24.935855Z",
     "start_time": "2018-05-27T10:06:24.572996Z"
    }
   },
   "outputs": [
    {
     "data": {
      "text/html": [
       "<div>\n",
       "<style scoped>\n",
       "    .dataframe tbody tr th:only-of-type {\n",
       "        vertical-align: middle;\n",
       "    }\n",
       "\n",
       "    .dataframe tbody tr th {\n",
       "        vertical-align: top;\n",
       "    }\n",
       "\n",
       "    .dataframe thead th {\n",
       "        text-align: right;\n",
       "    }\n",
       "</style>\n",
       "<table border=\"1\" class=\"dataframe\">\n",
       "  <thead>\n",
       "    <tr style=\"text-align: right;\">\n",
       "      <th></th>\n",
       "      <th>A</th>\n",
       "      <th>B</th>\n",
       "      <th>ccc</th>\n",
       "    </tr>\n",
       "  </thead>\n",
       "  <tbody>\n",
       "    <tr>\n",
       "      <th>A</th>\n",
       "      <td>0</td>\n",
       "      <td>1</td>\n",
       "      <td>0</td>\n",
       "    </tr>\n",
       "    <tr>\n",
       "      <th>B</th>\n",
       "      <td>0</td>\n",
       "      <td>0</td>\n",
       "      <td>1</td>\n",
       "    </tr>\n",
       "    <tr>\n",
       "      <th>C</th>\n",
       "      <td>0</td>\n",
       "      <td>0</td>\n",
       "      <td>0</td>\n",
       "    </tr>\n",
       "  </tbody>\n",
       "</table>\n",
       "</div>"
      ],
      "text/plain": [
       "   A  B  ccc\n",
       "A  0  1    0\n",
       "B  0  0    1\n",
       "C  0  0    0"
      ]
     },
     "metadata": {},
     "output_type": "display_data"
    },
    {
     "ename": "NetworkXError",
     "evalue": "('Columns must match Indices.', \"['C'] not in columns\")",
     "output_type": "error",
     "traceback": [
      "\u001b[0;31m---------------------------------------------------------------------------\u001b[0m",
      "\u001b[0;31mKeyError\u001b[0m                                  Traceback (most recent call last)",
      "\u001b[0;32m~/anaconda/envs/pepmap_env/lib/python3.6/site-packages/networkx/convert_matrix.py\u001b[0m in \u001b[0;36mfrom_pandas_adjacency\u001b[0;34m(df, create_using)\u001b[0m\n\u001b[1;32m    181\u001b[0m     \u001b[0;32mtry\u001b[0m\u001b[0;34m:\u001b[0m\u001b[0;34m\u001b[0m\u001b[0m\n\u001b[0;32m--> 182\u001b[0;31m         \u001b[0mdf\u001b[0m \u001b[0;34m=\u001b[0m \u001b[0mdf\u001b[0m\u001b[0;34m[\u001b[0m\u001b[0mdf\u001b[0m\u001b[0;34m.\u001b[0m\u001b[0mindex\u001b[0m\u001b[0;34m]\u001b[0m\u001b[0;34m\u001b[0m\u001b[0m\n\u001b[0m\u001b[1;32m    183\u001b[0m     \u001b[0;32mexcept\u001b[0m\u001b[0;34m:\u001b[0m\u001b[0;34m\u001b[0m\u001b[0m\n",
      "\u001b[0;32m~/anaconda/envs/pepmap_env/lib/python3.6/site-packages/pandas/core/frame.py\u001b[0m in \u001b[0;36m__getitem__\u001b[0;34m(self, key)\u001b[0m\n\u001b[1;32m   2132\u001b[0m             \u001b[0;31m# either boolean or fancy integer index\u001b[0m\u001b[0;34m\u001b[0m\u001b[0;34m\u001b[0m\u001b[0m\n\u001b[0;32m-> 2133\u001b[0;31m             \u001b[0;32mreturn\u001b[0m \u001b[0mself\u001b[0m\u001b[0;34m.\u001b[0m\u001b[0m_getitem_array\u001b[0m\u001b[0;34m(\u001b[0m\u001b[0mkey\u001b[0m\u001b[0;34m)\u001b[0m\u001b[0;34m\u001b[0m\u001b[0m\n\u001b[0m\u001b[1;32m   2134\u001b[0m         \u001b[0;32melif\u001b[0m \u001b[0misinstance\u001b[0m\u001b[0;34m(\u001b[0m\u001b[0mkey\u001b[0m\u001b[0;34m,\u001b[0m \u001b[0mDataFrame\u001b[0m\u001b[0;34m)\u001b[0m\u001b[0;34m:\u001b[0m\u001b[0;34m\u001b[0m\u001b[0m\n",
      "\u001b[0;32m~/anaconda/envs/pepmap_env/lib/python3.6/site-packages/pandas/core/frame.py\u001b[0m in \u001b[0;36m_getitem_array\u001b[0;34m(self, key)\u001b[0m\n\u001b[1;32m   2176\u001b[0m         \u001b[0;32melse\u001b[0m\u001b[0;34m:\u001b[0m\u001b[0;34m\u001b[0m\u001b[0m\n\u001b[0;32m-> 2177\u001b[0;31m             \u001b[0mindexer\u001b[0m \u001b[0;34m=\u001b[0m \u001b[0mself\u001b[0m\u001b[0;34m.\u001b[0m\u001b[0mloc\u001b[0m\u001b[0;34m.\u001b[0m\u001b[0m_convert_to_indexer\u001b[0m\u001b[0;34m(\u001b[0m\u001b[0mkey\u001b[0m\u001b[0;34m,\u001b[0m \u001b[0maxis\u001b[0m\u001b[0;34m=\u001b[0m\u001b[0;36m1\u001b[0m\u001b[0;34m)\u001b[0m\u001b[0;34m\u001b[0m\u001b[0m\n\u001b[0m\u001b[1;32m   2178\u001b[0m             \u001b[0;32mreturn\u001b[0m \u001b[0mself\u001b[0m\u001b[0;34m.\u001b[0m\u001b[0m_take\u001b[0m\u001b[0;34m(\u001b[0m\u001b[0mindexer\u001b[0m\u001b[0;34m,\u001b[0m \u001b[0maxis\u001b[0m\u001b[0;34m=\u001b[0m\u001b[0;36m1\u001b[0m\u001b[0;34m,\u001b[0m \u001b[0mconvert\u001b[0m\u001b[0;34m=\u001b[0m\u001b[0;32mTrue\u001b[0m\u001b[0;34m)\u001b[0m\u001b[0;34m\u001b[0m\u001b[0m\n",
      "\u001b[0;32m~/anaconda/envs/pepmap_env/lib/python3.6/site-packages/pandas/core/indexing.py\u001b[0m in \u001b[0;36m_convert_to_indexer\u001b[0;34m(self, obj, axis, is_setter)\u001b[0m\n\u001b[1;32m   1268\u001b[0m                     raise KeyError('{mask} not in index'\n\u001b[0;32m-> 1269\u001b[0;31m                                    .format(mask=objarr[mask]))\n\u001b[0m\u001b[1;32m   1270\u001b[0m \u001b[0;34m\u001b[0m\u001b[0m\n",
      "\u001b[0;31mKeyError\u001b[0m: \"Index(['C'], dtype='object') not in index\"",
      "\nDuring handling of the above exception, another exception occurred:\n",
      "\u001b[0;31mNetworkXError\u001b[0m                             Traceback (most recent call last)",
      "\u001b[0;32m<ipython-input-9-c940d839ddaf>\u001b[0m in \u001b[0;36m<module>\u001b[0;34m()\u001b[0m\n\u001b[1;32m      7\u001b[0m \u001b[0;34m\u001b[0m\u001b[0m\n\u001b[1;32m      8\u001b[0m \u001b[0;31m# 変換\u001b[0m\u001b[0;34m\u001b[0m\u001b[0;34m\u001b[0m\u001b[0m\n\u001b[0;32m----> 9\u001b[0;31m \u001b[0mG\u001b[0m  \u001b[0;34m=\u001b[0m \u001b[0mnx\u001b[0m\u001b[0;34m.\u001b[0m\u001b[0mfrom_pandas_adjacency\u001b[0m\u001b[0;34m(\u001b[0m\u001b[0mdf\u001b[0m\u001b[0;34m,\u001b[0m \u001b[0mcreate_using\u001b[0m\u001b[0;34m=\u001b[0m\u001b[0mnx\u001b[0m\u001b[0;34m.\u001b[0m\u001b[0mDiGraph\u001b[0m\u001b[0;34m(\u001b[0m\u001b[0;34m)\u001b[0m\u001b[0;34m)\u001b[0m\u001b[0;34m\u001b[0m\u001b[0m\n\u001b[0m\u001b[1;32m     10\u001b[0m \u001b[0;31m# 表示\u001b[0m\u001b[0;34m\u001b[0m\u001b[0;34m\u001b[0m\u001b[0m\n\u001b[1;32m     11\u001b[0m \u001b[0mpos\u001b[0m\u001b[0;34m=\u001b[0m\u001b[0mnx\u001b[0m\u001b[0;34m.\u001b[0m\u001b[0mspring_layout\u001b[0m\u001b[0;34m(\u001b[0m\u001b[0mG\u001b[0m\u001b[0;34m)\u001b[0m\u001b[0;34m\u001b[0m\u001b[0m\n",
      "\u001b[0;32m~/anaconda/envs/pepmap_env/lib/python3.6/site-packages/networkx/convert_matrix.py\u001b[0m in \u001b[0;36mfrom_pandas_adjacency\u001b[0;34m(df, create_using)\u001b[0m\n\u001b[1;32m    183\u001b[0m     \u001b[0;32mexcept\u001b[0m\u001b[0;34m:\u001b[0m\u001b[0;34m\u001b[0m\u001b[0m\n\u001b[1;32m    184\u001b[0m         raise nx.NetworkXError(\"Columns must match Indices.\", \"%s not in columns\" %\n\u001b[0;32m--> 185\u001b[0;31m                                list(set(df.index).difference(set(df.columns))))\n\u001b[0m\u001b[1;32m    186\u001b[0m \u001b[0;34m\u001b[0m\u001b[0m\n\u001b[1;32m    187\u001b[0m     \u001b[0mnx\u001b[0m\u001b[0;34m.\u001b[0m\u001b[0mrelabel\u001b[0m\u001b[0;34m.\u001b[0m\u001b[0mrelabel_nodes\u001b[0m\u001b[0;34m(\u001b[0m\u001b[0mG\u001b[0m\u001b[0;34m,\u001b[0m \u001b[0mdict\u001b[0m\u001b[0;34m(\u001b[0m\u001b[0menumerate\u001b[0m\u001b[0;34m(\u001b[0m\u001b[0mdf\u001b[0m\u001b[0;34m.\u001b[0m\u001b[0mcolumns\u001b[0m\u001b[0;34m)\u001b[0m\u001b[0;34m)\u001b[0m\u001b[0;34m,\u001b[0m \u001b[0mcopy\u001b[0m\u001b[0;34m=\u001b[0m\u001b[0;32mFalse\u001b[0m\u001b[0;34m)\u001b[0m\u001b[0;34m\u001b[0m\u001b[0m\n",
      "\u001b[0;31mNetworkXError\u001b[0m: ('Columns must match Indices.', \"['C'] not in columns\")"
     ]
    }
   ],
   "source": [
    "data = {\"A\": {\"A\": 0, \"B\" : 0, \"C\": 0},\n",
    "            \"B\": {\"A\": 1, \"B\" : 0, \"C\": 0}, \n",
    "            \"ccc\": {\"A\": 0, \"B\" : 1, \"C\": 0}\n",
    "           }  # ★ 行名と列名を変更する\n",
    "df = pd.DataFrame(data)\n",
    "display(df)\n",
    "\n",
    "# 変換\n",
    "G  = nx.from_pandas_adjacency(df, create_using=nx.DiGraph())\n",
    "# 表示\n",
    "pos=nx.spring_layout(G)\n",
    "nx.draw_networkx_nodes(G, pos=pos)\n",
    "nx.draw_networkx_labels(G, pos=pos)\n",
    "nx.draw_networkx_edges(G, pos=pos)\n",
    "plt.show()"
   ]
  },
  {
   "cell_type": "markdown",
   "metadata": {},
   "source": [
    "### 結果\n",
    "予想1: エラーになってそもそも変換できない   \n",
    "※ NetworkXErrorが発生する"
   ]
  },
  {
   "cell_type": "markdown",
   "metadata": {},
   "source": [
    "## 番外2: 行名・列名を明示的に指定しない場合\n",
    "そもそも列名・行名をつけていなかったらどうなる？   \n",
    "- 予想1: 行名・列名が0始まりの連番になるので、結果的に行名・列名・その並び順が揃い、問題なく変換・表示ができる\n",
    "    + というか、Officialのドキュメントのサンプルコードではそうなっている。\n",
    "       * networkx.convert_matrix.from_pandas_adjacency: https://networkx.github.io/documentation/stable/reference/generated/networkx.convert_matrix.from_pandas_adjacency.html#networkx.convert_matrix.from_pandas_adjacency\n",
    "- 予想2: それ以外"
   ]
  },
  {
   "cell_type": "code",
   "execution_count": 10,
   "metadata": {
    "ExecuteTime": {
     "end_time": "2018-05-27T10:06:25.372421Z",
     "start_time": "2018-05-27T10:06:25.079354Z"
    }
   },
   "outputs": [
    {
     "data": {
      "text/html": [
       "<div>\n",
       "<style scoped>\n",
       "    .dataframe tbody tr th:only-of-type {\n",
       "        vertical-align: middle;\n",
       "    }\n",
       "\n",
       "    .dataframe tbody tr th {\n",
       "        vertical-align: top;\n",
       "    }\n",
       "\n",
       "    .dataframe thead th {\n",
       "        text-align: right;\n",
       "    }\n",
       "</style>\n",
       "<table border=\"1\" class=\"dataframe\">\n",
       "  <thead>\n",
       "    <tr style=\"text-align: right;\">\n",
       "      <th></th>\n",
       "      <th>0</th>\n",
       "      <th>1</th>\n",
       "      <th>2</th>\n",
       "    </tr>\n",
       "  </thead>\n",
       "  <tbody>\n",
       "    <tr>\n",
       "      <th>0</th>\n",
       "      <td>0</td>\n",
       "      <td>1</td>\n",
       "      <td>0</td>\n",
       "    </tr>\n",
       "    <tr>\n",
       "      <th>1</th>\n",
       "      <td>0</td>\n",
       "      <td>0</td>\n",
       "      <td>1</td>\n",
       "    </tr>\n",
       "    <tr>\n",
       "      <th>2</th>\n",
       "      <td>0</td>\n",
       "      <td>0</td>\n",
       "      <td>0</td>\n",
       "    </tr>\n",
       "  </tbody>\n",
       "</table>\n",
       "</div>"
      ],
      "text/plain": [
       "   0  1  2\n",
       "0  0  1  0\n",
       "1  0  0  1\n",
       "2  0  0  0"
      ]
     },
     "metadata": {},
     "output_type": "display_data"
    },
    {
     "data": {
      "image/png": "[encoded data removed]",
      "text/plain": [
       "<matplotlib.figure.Figure at 0x1125cf470>"
      ]
     },
     "metadata": {},
     "output_type": "display_data"
    }
   ],
   "source": [
    "df = pd.DataFrame([[0, 1, 0], \n",
    "                              [0, 0, 1],\n",
    "                              [0, 0, 0]])\n",
    "display(df)\n",
    "\n",
    "# 変換\n",
    "G  = nx.from_numpy_matrix(df.values, create_using=nx.DiGraph())\n",
    "# 表示\n",
    "pos=nx.spring_layout(G)\n",
    "nx.draw_networkx_nodes(G, pos=pos)\n",
    "nx.draw_networkx_labels(G, pos=pos)\n",
    "nx.draw_networkx_edges(G, pos=pos)\n",
    "plt.show()"
   ]
  },
  {
   "cell_type": "markdown",
   "metadata": {},
   "source": [
    "### 結果\n",
    "予想1: 行名・列名が0始まりの連番になるので、結果的に行名・列名・その並び順が揃い、問題なく変換・表示ができる（当たり前っちゃ当たり前）"
   ]
  }
 ],
 "metadata": {
  "hide_input": false,
  "kernelspec": {
   "display_name": "Environment (conda_pepmap_env)",
   "language": "python",
   "name": "conda_pepmap_env"
  },
  "language_info": {
   "codemirror_mode": {
    "name": "ipython",
    "version": 3
   },
   "file_extension": ".py",
   "mimetype": "text/x-python",
   "name": "python",
   "nbconvert_exporter": "python",
   "pygments_lexer": "ipython3",
   "version": "3.6.2"
  },
  "toc": {
   "nav_menu": {},
   "number_sections": true,
   "sideBar": true,
   "skip_h1_title": false,
   "toc_cell": false,
   "toc_position": {},
   "toc_section_display": "block",
   "toc_window_display": true
  },
  "varInspector": {
   "cols": {
    "lenName": 16,
    "lenType": 16,
    "lenVar": 40
   },
   "kernels_config": {
    "python": {
     "delete_cmd_postfix": "",
     "delete_cmd_prefix": "del ",
     "library": "var_list.py",
     "varRefreshCmd": "print(var_dic_list())"
    },
    "r": {
     "delete_cmd_postfix": ") ",
     "delete_cmd_prefix": "rm(",
     "library": "var_list.r",
     "varRefreshCmd": "cat(var_dic_list()) "
    }
   },
   "types_to_exclude": [
    "module",
    "function",
    "builtin_function_or_method",
    "instance",
    "_Feature"
   ],
   "window_display": false
  }
 },
 "nbformat": 4,
 "nbformat_minor": 2
}
